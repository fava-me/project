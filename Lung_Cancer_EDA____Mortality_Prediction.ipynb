{
  "metadata": {
    "kernelspec": {
      "language": "python",
      "display_name": "Python 3",
      "name": "python3"
    },
    "language_info": {
      "name": "python",
      "version": "3.10.13",
      "mimetype": "text/x-python",
      "codemirror_mode": {
        "name": "ipython",
        "version": 3
      },
      "pygments_lexer": "ipython3",
      "nbconvert_exporter": "python",
      "file_extension": ".py"
    },
    "kaggle": {
      "accelerator": "none",
      "dataSources": [
        {
          "sourceType": "datasetVersion",
          "sourceId": 8581145,
          "datasetId": 5116788,
          "databundleVersionId": 8727024
        }
      ],
      "dockerImageVersionId": 30715,
      "isInternetEnabled": true,
      "language": "python",
      "sourceType": "notebook",
      "isGpuEnabled": false
    },
    "colab": {
      "provenance": []
    }
  },
  "nbformat_minor": 0,
  "nbformat": 4,
  "cells": [
    {
      "cell_type": "code",
      "source": [
        "from google.colab import drive\n",
        "drive.mount('/content/drive')"
      ],
      "metadata": {
        "colab": {
          "base_uri": "https://localhost:8080/"
        },
        "id": "6FXWX6Uc_287",
        "outputId": "72c12e8e-ef21-4385-c619-8799b558d4ea"
      },
      "execution_count": 1,
      "outputs": [
        {
          "output_type": "stream",
          "name": "stdout",
          "text": [
            "Drive already mounted at /content/drive; to attempt to forcibly remount, call drive.mount(\"/content/drive\", force_remount=True).\n"
          ]
        }
      ]
    },
    {
      "cell_type": "code",
      "source": [
        "import numpy as np # linear algebra\n",
        "import pandas as pd # data processing, CSV file I/O (e.g. pd.read_csv)\n",
        "\n",
        "import warnings\n",
        "warnings.filterwarnings(\"ignore\")\n",
        "\n",
        "from datetime import datetime\n",
        "\n",
        "import matplotlib.pyplot as plt\n",
        "import seaborn as sns\n",
        "\n",
        "from sklearn.preprocessing import LabelEncoder, MinMaxScaler\n",
        "from sklearn.model_selection import train_test_split\n",
        "\n",
        "from imblearn.over_sampling import SMOTE\n",
        "\n",
        "from sklearn.ensemble import RandomForestClassifier\n",
        "from sklearn.ensemble import ExtraTreesClassifier\n",
        "from sklearn.ensemble import GradientBoostingClassifier\n",
        "from sklearn.ensemble import AdaBoostClassifier\n",
        "from xgboost import XGBClassifier\n",
        "from lightgbm import LGBMClassifier\n",
        "from sklearn.linear_model import LogisticRegression\n",
        "import tensorflow as tf\n",
        "\n",
        "from sklearn.metrics import accuracy_score, confusion_matrix, classification_report\n",
        "\n",
        "from collections import Counter"
      ],
      "metadata": {
        "_uuid": "8f2839f25d086af736a60e9eeb907d3b93b6e0e5",
        "_cell_guid": "b1076dfc-b9ad-4769-8c92-a6c4dae69d19",
        "_kg_hide-input": true,
        "execution": {
          "iopub.status.busy": "2024-06-01T22:31:47.999212Z",
          "iopub.execute_input": "2024-06-01T22:31:47.999597Z",
          "iopub.status.idle": "2024-06-01T22:32:06.296575Z",
          "shell.execute_reply.started": "2024-06-01T22:31:47.999568Z",
          "shell.execute_reply": "2024-06-01T22:32:06.295198Z"
        },
        "trusted": true,
        "id": "2j6nxnWq0EUd"
      },
      "execution_count": 2,
      "outputs": []
    },
    {
      "cell_type": "markdown",
      "source": [
        "# Exploring dataset and its dimensionality"
      ],
      "metadata": {
        "id": "YRv1V12z0EUg"
      }
    },
    {
      "cell_type": "code",
      "source": [
        "df = pd.read_csv(\"/content/drive/MyDrive/datasets/lung_cancer_mortality_data_large_v2.csv\")"
      ],
      "metadata": {
        "execution": {
          "iopub.status.busy": "2024-06-01T22:32:06.298191Z",
          "iopub.execute_input": "2024-06-01T22:32:06.298857Z",
          "iopub.status.idle": "2024-06-01T22:32:06.322301Z",
          "shell.execute_reply.started": "2024-06-01T22:32:06.298823Z",
          "shell.execute_reply": "2024-06-01T22:32:06.321159Z"
        },
        "trusted": true,
        "id": "6vDCMZnA0EUl"
      },
      "execution_count": 3,
      "outputs": []
    },
    {
      "cell_type": "code",
      "source": [
        "df.head()"
      ],
      "metadata": {
        "execution": {
          "iopub.status.busy": "2024-06-01T22:32:06.323524Z",
          "iopub.execute_input": "2024-06-01T22:32:06.323932Z",
          "iopub.status.idle": "2024-06-01T22:32:06.369978Z",
          "shell.execute_reply.started": "2024-06-01T22:32:06.323901Z",
          "shell.execute_reply": "2024-06-01T22:32:06.368819Z"
        },
        "trusted": true,
        "id": "-4P3vylW0EUm",
        "colab": {
          "base_uri": "https://localhost:8080/",
          "height": 244
        },
        "outputId": "04e5b00e-49c6-417e-9f69-58fdb407bee5"
      },
      "execution_count": 4,
      "outputs": [
        {
          "output_type": "execute_result",
          "data": {
            "text/plain": [
              "   id   age  gender         country diagnosis_date cancer_stage  \\\n",
              "0   1  64.0  Female         Germany     2016-04-07    Stage III   \n",
              "1   2  50.0    Male  Czech Republic     2023-04-22    Stage III   \n",
              "2   3  65.0    Male         Romania     2023-04-07     Stage IV   \n",
              "3   4  51.0  Female          Latvia     2016-02-07    Stage III   \n",
              "4   5  37.0    Male          Greece     2023-12-01      Stage I   \n",
              "\n",
              "  beginning_of_treatment_date family_history  smoking_status   bmi  \\\n",
              "0                  2016-04-21             No    Never Smoked  31.1   \n",
              "1                  2023-05-02            Yes  Passive Smoker  25.9   \n",
              "2                  2023-04-12             No    Never Smoked  18.9   \n",
              "3                  2016-02-13            Yes   Former Smoker  34.6   \n",
              "4                  2023-12-03            Yes    Never Smoked  40.2   \n",
              "\n",
              "   cholesterol_level  hypertension  asthma  cirrhosis  other_cancer  \\\n",
              "0                257             1       1          0             0   \n",
              "1                208             1       0          0             0   \n",
              "2                193             0       0          0             0   \n",
              "3                249             1       1          1             0   \n",
              "4                262             0       0          0             0   \n",
              "\n",
              "  treatment_type end_treatment_date  survived  \n",
              "0       Combined         2017-11-15         0  \n",
              "1      Radiation         2024-04-25         0  \n",
              "2        Surgery         2025-03-11         0  \n",
              "3        Surgery         2017-04-14         1  \n",
              "4   Chemotherapy         2024-09-20         0  "
            ],
            "text/html": [
              "\n",
              "  <div id=\"df-f09e3193-f1d0-44c9-a38e-d2b7320ff714\" class=\"colab-df-container\">\n",
              "    <div>\n",
              "<style scoped>\n",
              "    .dataframe tbody tr th:only-of-type {\n",
              "        vertical-align: middle;\n",
              "    }\n",
              "\n",
              "    .dataframe tbody tr th {\n",
              "        vertical-align: top;\n",
              "    }\n",
              "\n",
              "    .dataframe thead th {\n",
              "        text-align: right;\n",
              "    }\n",
              "</style>\n",
              "<table border=\"1\" class=\"dataframe\">\n",
              "  <thead>\n",
              "    <tr style=\"text-align: right;\">\n",
              "      <th></th>\n",
              "      <th>id</th>\n",
              "      <th>age</th>\n",
              "      <th>gender</th>\n",
              "      <th>country</th>\n",
              "      <th>diagnosis_date</th>\n",
              "      <th>cancer_stage</th>\n",
              "      <th>beginning_of_treatment_date</th>\n",
              "      <th>family_history</th>\n",
              "      <th>smoking_status</th>\n",
              "      <th>bmi</th>\n",
              "      <th>cholesterol_level</th>\n",
              "      <th>hypertension</th>\n",
              "      <th>asthma</th>\n",
              "      <th>cirrhosis</th>\n",
              "      <th>other_cancer</th>\n",
              "      <th>treatment_type</th>\n",
              "      <th>end_treatment_date</th>\n",
              "      <th>survived</th>\n",
              "    </tr>\n",
              "  </thead>\n",
              "  <tbody>\n",
              "    <tr>\n",
              "      <th>0</th>\n",
              "      <td>1</td>\n",
              "      <td>64.0</td>\n",
              "      <td>Female</td>\n",
              "      <td>Germany</td>\n",
              "      <td>2016-04-07</td>\n",
              "      <td>Stage III</td>\n",
              "      <td>2016-04-21</td>\n",
              "      <td>No</td>\n",
              "      <td>Never Smoked</td>\n",
              "      <td>31.1</td>\n",
              "      <td>257</td>\n",
              "      <td>1</td>\n",
              "      <td>1</td>\n",
              "      <td>0</td>\n",
              "      <td>0</td>\n",
              "      <td>Combined</td>\n",
              "      <td>2017-11-15</td>\n",
              "      <td>0</td>\n",
              "    </tr>\n",
              "    <tr>\n",
              "      <th>1</th>\n",
              "      <td>2</td>\n",
              "      <td>50.0</td>\n",
              "      <td>Male</td>\n",
              "      <td>Czech Republic</td>\n",
              "      <td>2023-04-22</td>\n",
              "      <td>Stage III</td>\n",
              "      <td>2023-05-02</td>\n",
              "      <td>Yes</td>\n",
              "      <td>Passive Smoker</td>\n",
              "      <td>25.9</td>\n",
              "      <td>208</td>\n",
              "      <td>1</td>\n",
              "      <td>0</td>\n",
              "      <td>0</td>\n",
              "      <td>0</td>\n",
              "      <td>Radiation</td>\n",
              "      <td>2024-04-25</td>\n",
              "      <td>0</td>\n",
              "    </tr>\n",
              "    <tr>\n",
              "      <th>2</th>\n",
              "      <td>3</td>\n",
              "      <td>65.0</td>\n",
              "      <td>Male</td>\n",
              "      <td>Romania</td>\n",
              "      <td>2023-04-07</td>\n",
              "      <td>Stage IV</td>\n",
              "      <td>2023-04-12</td>\n",
              "      <td>No</td>\n",
              "      <td>Never Smoked</td>\n",
              "      <td>18.9</td>\n",
              "      <td>193</td>\n",
              "      <td>0</td>\n",
              "      <td>0</td>\n",
              "      <td>0</td>\n",
              "      <td>0</td>\n",
              "      <td>Surgery</td>\n",
              "      <td>2025-03-11</td>\n",
              "      <td>0</td>\n",
              "    </tr>\n",
              "    <tr>\n",
              "      <th>3</th>\n",
              "      <td>4</td>\n",
              "      <td>51.0</td>\n",
              "      <td>Female</td>\n",
              "      <td>Latvia</td>\n",
              "      <td>2016-02-07</td>\n",
              "      <td>Stage III</td>\n",
              "      <td>2016-02-13</td>\n",
              "      <td>Yes</td>\n",
              "      <td>Former Smoker</td>\n",
              "      <td>34.6</td>\n",
              "      <td>249</td>\n",
              "      <td>1</td>\n",
              "      <td>1</td>\n",
              "      <td>1</td>\n",
              "      <td>0</td>\n",
              "      <td>Surgery</td>\n",
              "      <td>2017-04-14</td>\n",
              "      <td>1</td>\n",
              "    </tr>\n",
              "    <tr>\n",
              "      <th>4</th>\n",
              "      <td>5</td>\n",
              "      <td>37.0</td>\n",
              "      <td>Male</td>\n",
              "      <td>Greece</td>\n",
              "      <td>2023-12-01</td>\n",
              "      <td>Stage I</td>\n",
              "      <td>2023-12-03</td>\n",
              "      <td>Yes</td>\n",
              "      <td>Never Smoked</td>\n",
              "      <td>40.2</td>\n",
              "      <td>262</td>\n",
              "      <td>0</td>\n",
              "      <td>0</td>\n",
              "      <td>0</td>\n",
              "      <td>0</td>\n",
              "      <td>Chemotherapy</td>\n",
              "      <td>2024-09-20</td>\n",
              "      <td>0</td>\n",
              "    </tr>\n",
              "  </tbody>\n",
              "</table>\n",
              "</div>\n",
              "    <div class=\"colab-df-buttons\">\n",
              "\n",
              "  <div class=\"colab-df-container\">\n",
              "    <button class=\"colab-df-convert\" onclick=\"convertToInteractive('df-f09e3193-f1d0-44c9-a38e-d2b7320ff714')\"\n",
              "            title=\"Convert this dataframe to an interactive table.\"\n",
              "            style=\"display:none;\">\n",
              "\n",
              "  <svg xmlns=\"http://www.w3.org/2000/svg\" height=\"24px\" viewBox=\"0 -960 960 960\">\n",
              "    <path d=\"M120-120v-720h720v720H120Zm60-500h600v-160H180v160Zm220 220h160v-160H400v160Zm0 220h160v-160H400v160ZM180-400h160v-160H180v160Zm440 0h160v-160H620v160ZM180-180h160v-160H180v160Zm440 0h160v-160H620v160Z\"/>\n",
              "  </svg>\n",
              "    </button>\n",
              "\n",
              "  <style>\n",
              "    .colab-df-container {\n",
              "      display:flex;\n",
              "      gap: 12px;\n",
              "    }\n",
              "\n",
              "    .colab-df-convert {\n",
              "      background-color: #E8F0FE;\n",
              "      border: none;\n",
              "      border-radius: 50%;\n",
              "      cursor: pointer;\n",
              "      display: none;\n",
              "      fill: #1967D2;\n",
              "      height: 32px;\n",
              "      padding: 0 0 0 0;\n",
              "      width: 32px;\n",
              "    }\n",
              "\n",
              "    .colab-df-convert:hover {\n",
              "      background-color: #E2EBFA;\n",
              "      box-shadow: 0px 1px 2px rgba(60, 64, 67, 0.3), 0px 1px 3px 1px rgba(60, 64, 67, 0.15);\n",
              "      fill: #174EA6;\n",
              "    }\n",
              "\n",
              "    .colab-df-buttons div {\n",
              "      margin-bottom: 4px;\n",
              "    }\n",
              "\n",
              "    [theme=dark] .colab-df-convert {\n",
              "      background-color: #3B4455;\n",
              "      fill: #D2E3FC;\n",
              "    }\n",
              "\n",
              "    [theme=dark] .colab-df-convert:hover {\n",
              "      background-color: #434B5C;\n",
              "      box-shadow: 0px 1px 3px 1px rgba(0, 0, 0, 0.15);\n",
              "      filter: drop-shadow(0px 1px 2px rgba(0, 0, 0, 0.3));\n",
              "      fill: #FFFFFF;\n",
              "    }\n",
              "  </style>\n",
              "\n",
              "    <script>\n",
              "      const buttonEl =\n",
              "        document.querySelector('#df-f09e3193-f1d0-44c9-a38e-d2b7320ff714 button.colab-df-convert');\n",
              "      buttonEl.style.display =\n",
              "        google.colab.kernel.accessAllowed ? 'block' : 'none';\n",
              "\n",
              "      async function convertToInteractive(key) {\n",
              "        const element = document.querySelector('#df-f09e3193-f1d0-44c9-a38e-d2b7320ff714');\n",
              "        const dataTable =\n",
              "          await google.colab.kernel.invokeFunction('convertToInteractive',\n",
              "                                                    [key], {});\n",
              "        if (!dataTable) return;\n",
              "\n",
              "        const docLinkHtml = 'Like what you see? Visit the ' +\n",
              "          '<a target=\"_blank\" href=https://colab.research.google.com/notebooks/data_table.ipynb>data table notebook</a>'\n",
              "          + ' to learn more about interactive tables.';\n",
              "        element.innerHTML = '';\n",
              "        dataTable['output_type'] = 'display_data';\n",
              "        await google.colab.output.renderOutput(dataTable, element);\n",
              "        const docLink = document.createElement('div');\n",
              "        docLink.innerHTML = docLinkHtml;\n",
              "        element.appendChild(docLink);\n",
              "      }\n",
              "    </script>\n",
              "  </div>\n",
              "\n",
              "\n",
              "<div id=\"df-6b358569-f512-4010-96f5-f49443382b6f\">\n",
              "  <button class=\"colab-df-quickchart\" onclick=\"quickchart('df-6b358569-f512-4010-96f5-f49443382b6f')\"\n",
              "            title=\"Suggest charts\"\n",
              "            style=\"display:none;\">\n",
              "\n",
              "<svg xmlns=\"http://www.w3.org/2000/svg\" height=\"24px\"viewBox=\"0 0 24 24\"\n",
              "     width=\"24px\">\n",
              "    <g>\n",
              "        <path d=\"M19 3H5c-1.1 0-2 .9-2 2v14c0 1.1.9 2 2 2h14c1.1 0 2-.9 2-2V5c0-1.1-.9-2-2-2zM9 17H7v-7h2v7zm4 0h-2V7h2v10zm4 0h-2v-4h2v4z\"/>\n",
              "    </g>\n",
              "</svg>\n",
              "  </button>\n",
              "\n",
              "<style>\n",
              "  .colab-df-quickchart {\n",
              "      --bg-color: #E8F0FE;\n",
              "      --fill-color: #1967D2;\n",
              "      --hover-bg-color: #E2EBFA;\n",
              "      --hover-fill-color: #174EA6;\n",
              "      --disabled-fill-color: #AAA;\n",
              "      --disabled-bg-color: #DDD;\n",
              "  }\n",
              "\n",
              "  [theme=dark] .colab-df-quickchart {\n",
              "      --bg-color: #3B4455;\n",
              "      --fill-color: #D2E3FC;\n",
              "      --hover-bg-color: #434B5C;\n",
              "      --hover-fill-color: #FFFFFF;\n",
              "      --disabled-bg-color: #3B4455;\n",
              "      --disabled-fill-color: #666;\n",
              "  }\n",
              "\n",
              "  .colab-df-quickchart {\n",
              "    background-color: var(--bg-color);\n",
              "    border: none;\n",
              "    border-radius: 50%;\n",
              "    cursor: pointer;\n",
              "    display: none;\n",
              "    fill: var(--fill-color);\n",
              "    height: 32px;\n",
              "    padding: 0;\n",
              "    width: 32px;\n",
              "  }\n",
              "\n",
              "  .colab-df-quickchart:hover {\n",
              "    background-color: var(--hover-bg-color);\n",
              "    box-shadow: 0 1px 2px rgba(60, 64, 67, 0.3), 0 1px 3px 1px rgba(60, 64, 67, 0.15);\n",
              "    fill: var(--button-hover-fill-color);\n",
              "  }\n",
              "\n",
              "  .colab-df-quickchart-complete:disabled,\n",
              "  .colab-df-quickchart-complete:disabled:hover {\n",
              "    background-color: var(--disabled-bg-color);\n",
              "    fill: var(--disabled-fill-color);\n",
              "    box-shadow: none;\n",
              "  }\n",
              "\n",
              "  .colab-df-spinner {\n",
              "    border: 2px solid var(--fill-color);\n",
              "    border-color: transparent;\n",
              "    border-bottom-color: var(--fill-color);\n",
              "    animation:\n",
              "      spin 1s steps(1) infinite;\n",
              "  }\n",
              "\n",
              "  @keyframes spin {\n",
              "    0% {\n",
              "      border-color: transparent;\n",
              "      border-bottom-color: var(--fill-color);\n",
              "      border-left-color: var(--fill-color);\n",
              "    }\n",
              "    20% {\n",
              "      border-color: transparent;\n",
              "      border-left-color: var(--fill-color);\n",
              "      border-top-color: var(--fill-color);\n",
              "    }\n",
              "    30% {\n",
              "      border-color: transparent;\n",
              "      border-left-color: var(--fill-color);\n",
              "      border-top-color: var(--fill-color);\n",
              "      border-right-color: var(--fill-color);\n",
              "    }\n",
              "    40% {\n",
              "      border-color: transparent;\n",
              "      border-right-color: var(--fill-color);\n",
              "      border-top-color: var(--fill-color);\n",
              "    }\n",
              "    60% {\n",
              "      border-color: transparent;\n",
              "      border-right-color: var(--fill-color);\n",
              "    }\n",
              "    80% {\n",
              "      border-color: transparent;\n",
              "      border-right-color: var(--fill-color);\n",
              "      border-bottom-color: var(--fill-color);\n",
              "    }\n",
              "    90% {\n",
              "      border-color: transparent;\n",
              "      border-bottom-color: var(--fill-color);\n",
              "    }\n",
              "  }\n",
              "</style>\n",
              "\n",
              "  <script>\n",
              "    async function quickchart(key) {\n",
              "      const quickchartButtonEl =\n",
              "        document.querySelector('#' + key + ' button');\n",
              "      quickchartButtonEl.disabled = true;  // To prevent multiple clicks.\n",
              "      quickchartButtonEl.classList.add('colab-df-spinner');\n",
              "      try {\n",
              "        const charts = await google.colab.kernel.invokeFunction(\n",
              "            'suggestCharts', [key], {});\n",
              "      } catch (error) {\n",
              "        console.error('Error during call to suggestCharts:', error);\n",
              "      }\n",
              "      quickchartButtonEl.classList.remove('colab-df-spinner');\n",
              "      quickchartButtonEl.classList.add('colab-df-quickchart-complete');\n",
              "    }\n",
              "    (() => {\n",
              "      let quickchartButtonEl =\n",
              "        document.querySelector('#df-6b358569-f512-4010-96f5-f49443382b6f button');\n",
              "      quickchartButtonEl.style.display =\n",
              "        google.colab.kernel.accessAllowed ? 'block' : 'none';\n",
              "    })();\n",
              "  </script>\n",
              "</div>\n",
              "\n",
              "    </div>\n",
              "  </div>\n"
            ],
            "application/vnd.google.colaboratory.intrinsic+json": {
              "type": "dataframe",
              "variable_name": "df"
            }
          },
          "metadata": {},
          "execution_count": 4
        }
      ]
    },
    {
      "cell_type": "code",
      "source": [
        "df.shape"
      ],
      "metadata": {
        "execution": {
          "iopub.status.busy": "2024-06-01T22:32:06.372332Z",
          "iopub.execute_input": "2024-06-01T22:32:06.372958Z",
          "iopub.status.idle": "2024-06-01T22:32:06.378805Z",
          "shell.execute_reply.started": "2024-06-01T22:32:06.372923Z",
          "shell.execute_reply": "2024-06-01T22:32:06.377813Z"
        },
        "trusted": true,
        "id": "NakIlbOG0EUo",
        "colab": {
          "base_uri": "https://localhost:8080/"
        },
        "outputId": "9ae9bc14-8125-46c5-80a3-6322bdaf694f"
      },
      "execution_count": 5,
      "outputs": [
        {
          "output_type": "execute_result",
          "data": {
            "text/plain": [
              "(3250000, 18)"
            ]
          },
          "metadata": {},
          "execution_count": 5
        }
      ]
    },
    {
      "cell_type": "markdown",
      "source": [
        "# Looking out for NULL values"
      ],
      "metadata": {
        "id": "jDHZlLha0EUp"
      }
    },
    {
      "cell_type": "code",
      "source": [
        "df.isna().sum()"
      ],
      "metadata": {
        "execution": {
          "iopub.status.busy": "2024-06-01T22:32:06.380489Z",
          "iopub.execute_input": "2024-06-01T22:32:06.381243Z",
          "iopub.status.idle": "2024-06-01T22:32:06.402051Z",
          "shell.execute_reply.started": "2024-06-01T22:32:06.381201Z",
          "shell.execute_reply": "2024-06-01T22:32:06.400141Z"
        },
        "trusted": true,
        "id": "DSVSY7t60EUs",
        "colab": {
          "base_uri": "https://localhost:8080/",
          "height": 649
        },
        "outputId": "ec07c33f-bf42-41b1-cc75-a108edb6deea"
      },
      "execution_count": 6,
      "outputs": [
        {
          "output_type": "execute_result",
          "data": {
            "text/plain": [
              "id                             0\n",
              "age                            0\n",
              "gender                         0\n",
              "country                        0\n",
              "diagnosis_date                 0\n",
              "cancer_stage                   0\n",
              "beginning_of_treatment_date    0\n",
              "family_history                 0\n",
              "smoking_status                 0\n",
              "bmi                            0\n",
              "cholesterol_level              0\n",
              "hypertension                   0\n",
              "asthma                         0\n",
              "cirrhosis                      0\n",
              "other_cancer                   0\n",
              "treatment_type                 0\n",
              "end_treatment_date             0\n",
              "survived                       0\n",
              "dtype: int64"
            ],
            "text/html": [
              "<div>\n",
              "<style scoped>\n",
              "    .dataframe tbody tr th:only-of-type {\n",
              "        vertical-align: middle;\n",
              "    }\n",
              "\n",
              "    .dataframe tbody tr th {\n",
              "        vertical-align: top;\n",
              "    }\n",
              "\n",
              "    .dataframe thead th {\n",
              "        text-align: right;\n",
              "    }\n",
              "</style>\n",
              "<table border=\"1\" class=\"dataframe\">\n",
              "  <thead>\n",
              "    <tr style=\"text-align: right;\">\n",
              "      <th></th>\n",
              "      <th>0</th>\n",
              "    </tr>\n",
              "  </thead>\n",
              "  <tbody>\n",
              "    <tr>\n",
              "      <th>id</th>\n",
              "      <td>0</td>\n",
              "    </tr>\n",
              "    <tr>\n",
              "      <th>age</th>\n",
              "      <td>0</td>\n",
              "    </tr>\n",
              "    <tr>\n",
              "      <th>gender</th>\n",
              "      <td>0</td>\n",
              "    </tr>\n",
              "    <tr>\n",
              "      <th>country</th>\n",
              "      <td>0</td>\n",
              "    </tr>\n",
              "    <tr>\n",
              "      <th>diagnosis_date</th>\n",
              "      <td>0</td>\n",
              "    </tr>\n",
              "    <tr>\n",
              "      <th>cancer_stage</th>\n",
              "      <td>0</td>\n",
              "    </tr>\n",
              "    <tr>\n",
              "      <th>beginning_of_treatment_date</th>\n",
              "      <td>0</td>\n",
              "    </tr>\n",
              "    <tr>\n",
              "      <th>family_history</th>\n",
              "      <td>0</td>\n",
              "    </tr>\n",
              "    <tr>\n",
              "      <th>smoking_status</th>\n",
              "      <td>0</td>\n",
              "    </tr>\n",
              "    <tr>\n",
              "      <th>bmi</th>\n",
              "      <td>0</td>\n",
              "    </tr>\n",
              "    <tr>\n",
              "      <th>cholesterol_level</th>\n",
              "      <td>0</td>\n",
              "    </tr>\n",
              "    <tr>\n",
              "      <th>hypertension</th>\n",
              "      <td>0</td>\n",
              "    </tr>\n",
              "    <tr>\n",
              "      <th>asthma</th>\n",
              "      <td>0</td>\n",
              "    </tr>\n",
              "    <tr>\n",
              "      <th>cirrhosis</th>\n",
              "      <td>0</td>\n",
              "    </tr>\n",
              "    <tr>\n",
              "      <th>other_cancer</th>\n",
              "      <td>0</td>\n",
              "    </tr>\n",
              "    <tr>\n",
              "      <th>treatment_type</th>\n",
              "      <td>0</td>\n",
              "    </tr>\n",
              "    <tr>\n",
              "      <th>end_treatment_date</th>\n",
              "      <td>0</td>\n",
              "    </tr>\n",
              "    <tr>\n",
              "      <th>survived</th>\n",
              "      <td>0</td>\n",
              "    </tr>\n",
              "  </tbody>\n",
              "</table>\n",
              "</div><br><label><b>dtype:</b> int64</label>"
            ]
          },
          "metadata": {},
          "execution_count": 6
        }
      ]
    },
    {
      "cell_type": "code",
      "source": [
        "# def datediff(x, y):\n",
        "#     date_x = datetime.strptime(x, \"%Y-%m-%d\")\n",
        "#     date_y = datetime.strptime(y, \"%Y-%m-%d\")\n",
        "#     diff = date_y - date_x\n",
        "\n",
        "#     return diff.days"
      ],
      "metadata": {
        "_kg_hide-input": true,
        "execution": {
          "iopub.status.busy": "2024-06-01T22:32:06.403333Z",
          "iopub.execute_input": "2024-06-01T22:32:06.403669Z",
          "iopub.status.idle": "2024-06-01T22:32:06.409128Z",
          "shell.execute_reply.started": "2024-06-01T22:32:06.403642Z",
          "shell.execute_reply": "2024-06-01T22:32:06.408137Z"
        },
        "trusted": true,
        "id": "dc5HSNpD0EUu"
      },
      "execution_count": 7,
      "outputs": []
    },
    {
      "cell_type": "code",
      "source": [
        "def datediff(start_date, end_date):\n",
        "    start = datetime.strptime(start_date, \"%Y-%m-%d\")\n",
        "    end = datetime.strptime(end_date, \"%Y-%m-%d\")\n",
        "    diff = end - start\n",
        "\n",
        "    return diff.days"
      ],
      "metadata": {
        "id": "q_iIg-gQCUIp"
      },
      "execution_count": 8,
      "outputs": []
    },
    {
      "cell_type": "markdown",
      "source": [
        "# Calculating the total number of days for treatment despite the outcome"
      ],
      "metadata": {
        "id": "Sk0RthkR0EUw"
      }
    },
    {
      "cell_type": "markdown",
      "source": [
        " This operation is crucial for understanding treatment timelines and can aid in various analyses, such as evaluating treatment effectiveness or resource allocation."
      ],
      "metadata": {
        "id": "wgGX5ld94qlt"
      }
    },
    {
      "cell_type": "markdown",
      "source": [],
      "metadata": {
        "id": "1pYGH8KD4p68"
      }
    },
    {
      "cell_type": "code",
      "source": [
        "df[\"days_of_treatment\"] = 0 #providing a clear starting point for further calculations.\n",
        "\n",
        "for i in range(df.shape[0]):\n",
        "    df.iloc[i, -1] = datediff(df.iloc[i, 4], df.iloc[i, -3])\n",
        "\n",
        "df.head()"
      ],
      "metadata": {
        "execution": {
          "iopub.status.busy": "2024-06-01T22:32:06.410304Z",
          "iopub.execute_input": "2024-06-01T22:32:06.411023Z",
          "iopub.status.idle": "2024-06-01T22:32:06.76383Z",
          "shell.execute_reply.started": "2024-06-01T22:32:06.41099Z",
          "shell.execute_reply": "2024-06-01T22:32:06.762089Z"
        },
        "trusted": true,
        "id": "Xld-vTc00EUx"
      },
      "execution_count": null,
      "outputs": []
    },
    {
      "cell_type": "markdown",
      "source": [
        "# Calculating the number of days for the diagnosis period\n"
      ],
      "metadata": {
        "id": "D3xiQ1FNdkKn"
      }
    },
    {
      "cell_type": "code",
      "source": [
        "df[\"diagnosis_period\"] = 0\n",
        "\n",
        "for i in range(df.shape[0]):\n",
        "    df.iloc[i, -1] = datediff(df.iloc[i, 4], df.iloc[i, 6])\n",
        "\n",
        "df.head()"
      ],
      "metadata": {
        "execution": {
          "iopub.status.busy": "2024-06-01T22:32:06.765427Z",
          "iopub.execute_input": "2024-06-01T22:32:06.766909Z",
          "iopub.status.idle": "2024-06-01T22:32:07.074961Z",
          "shell.execute_reply.started": "2024-06-01T22:32:06.766869Z",
          "shell.execute_reply": "2024-06-01T22:32:07.073447Z"
        },
        "trusted": true,
        "id": "7jPBBLQi0EUz"
      },
      "execution_count": null,
      "outputs": []
    },
    {
      "cell_type": "markdown",
      "source": [
        "# Ratio of fatal and successful outcomes"
      ],
      "metadata": {
        "id": "kF1akZyb0EU0"
      }
    },
    {
      "cell_type": "code",
      "source": [],
      "metadata": {
        "id": "L8jh9d2n3uDu"
      },
      "execution_count": null,
      "outputs": []
    },
    {
      "cell_type": "code",
      "source": [
        "count = df[\"survived\"].value_counts()\n",
        "fig, axes = plt.subplots(ncols=2, figsize=(15, 6))\n",
        "count.plot(kind=\"bar\", ax=axes[0])\n",
        "for container in axes[0].containers:\n",
        "    axes[0].bar_label(container)\n",
        "axes[0].set_yticklabels(())\n",
        "axes[0].set_ylabel(\"\")\n",
        "axes[0].set_xlabel(\"\")\n",
        "axes[0].set_title(\"Survived patients count\")\n",
        "count.plot(kind=\"pie\", ax=axes[1], autopct=\"%0.2f%%\")\n",
        "axes[1].set_ylabel(\"\")\n",
        "plt.show()"
      ],
      "metadata": {
        "_kg_hide-input": true,
        "execution": {
          "iopub.status.busy": "2024-06-01T22:32:07.077091Z",
          "iopub.execute_input": "2024-06-01T22:32:07.077617Z",
          "iopub.status.idle": "2024-06-01T22:32:07.496591Z",
          "shell.execute_reply.started": "2024-06-01T22:32:07.077584Z",
          "shell.execute_reply": "2024-06-01T22:32:07.494978Z"
        },
        "trusted": true,
        "id": "01Ix8M_p0EU1"
      },
      "execution_count": null,
      "outputs": []
    },
    {
      "cell_type": "markdown",
      "source": [
        "# Average time to start treatment"
      ],
      "metadata": {
        "id": "li3PCOAT0EU2"
      }
    },
    {
      "cell_type": "code",
      "source": [
        "grouped = df.groupby(\"survived\")\n",
        "mean = grouped[\"diagnosis_period\"].mean()\n",
        "fig, axes = plt.subplots(ncols=2, figsize=(15, 6))\n",
        "sns.barplot(x=mean.index, y=mean, ax=axes[0])\n",
        "for container in axes[0].containers:\n",
        "    axes[0].bar_label(container)\n",
        "axes[0].set_yticklabels(())\n",
        "axes[0].set_ylabel(\"\")\n",
        "axes[0].set_xlabel(\"\")\n",
        "\n",
        "sns.kdeplot(df, x=\"diagnosis_period\", hue=\"survived\", ax=axes[1])\n",
        "\n",
        "plt.show()"
      ],
      "metadata": {
        "_kg_hide-input": true,
        "execution": {
          "iopub.status.busy": "2024-06-01T22:32:07.501112Z",
          "iopub.execute_input": "2024-06-01T22:32:07.501611Z",
          "iopub.status.idle": "2024-06-01T22:32:07.959281Z",
          "shell.execute_reply.started": "2024-06-01T22:32:07.501578Z",
          "shell.execute_reply": "2024-06-01T22:32:07.957835Z"
        },
        "trusted": true,
        "id": "RtzNLJGB0EU3"
      },
      "execution_count": null,
      "outputs": []
    },
    {
      "cell_type": "markdown",
      "source": [
        "# Top countries with highest average time to start treatment and lowest average time to start treatment"
      ],
      "metadata": {
        "id": "tYxgveeN0EU4"
      }
    },
    {
      "cell_type": "code",
      "source": [
        "grouped = df.groupby(\"country\")\n",
        "mean = pd.DataFrame(grouped[\"diagnosis_period\"].mean())\n",
        "mean = mean.sort_values(\"diagnosis_period\", ascending=False)\n",
        "fig, axes = plt.subplots(ncols=2, figsize=(15, 6))\n",
        "sns.barplot(x=mean.index[:10], y=mean.iloc[:10, 0], ax=axes[0])\n",
        "for container in axes[0].containers:\n",
        "    axes[0].bar_label(container, rotation=90, label_type=\"center\")\n",
        "axes[0].set_xticklabels(axes[0].get_xticklabels(), rotation=90)\n",
        "axes[0].set_yticklabels(())\n",
        "axes[0].set_ylabel(\"\")\n",
        "axes[0].set_xlabel(\"\")\n",
        "\n",
        "\n",
        "mean = mean.sort_values(\"diagnosis_period\", ascending=True)\n",
        "sns.barplot(x=mean.index[:10], y=mean.iloc[:10, 0], ax=axes[1])\n",
        "for container in axes[1].containers:\n",
        "    axes[1].bar_label(container, rotation=90, label_type=\"center\")\n",
        "axes[1].set_xticklabels(axes[1].get_xticklabels(), rotation=90)\n",
        "axes[1].set_yticklabels(())\n",
        "axes[1].set_ylabel(\"\")\n",
        "axes[1].set_xlabel(\"\")\n",
        "\n",
        "\n",
        "plt.show()"
      ],
      "metadata": {
        "_kg_hide-input": true,
        "execution": {
          "iopub.status.busy": "2024-06-01T22:32:07.96087Z",
          "iopub.execute_input": "2024-06-01T22:32:07.961252Z",
          "iopub.status.idle": "2024-06-01T22:32:08.542365Z",
          "shell.execute_reply.started": "2024-06-01T22:32:07.961222Z",
          "shell.execute_reply": "2024-06-01T22:32:08.540633Z"
        },
        "trusted": true,
        "id": "w1MT9sPl0EU5"
      },
      "execution_count": null,
      "outputs": []
    },
    {
      "cell_type": "markdown",
      "source": [
        "# Average time of treatment in days and days distribution for each outcome"
      ],
      "metadata": {
        "id": "cM5jLpI90EU6"
      }
    },
    {
      "cell_type": "code",
      "source": [
        "grouped = df.groupby(\"survived\")\n",
        "mean = grouped[\"days_of_treatment\"].mean()\n",
        "fig, axes = plt.subplots(ncols=2, figsize=(15, 6))\n",
        "sns.barplot(x=mean.index, y=mean, ax=axes[0])\n",
        "for container in axes[0].containers:\n",
        "    axes[0].bar_label(container)\n",
        "axes[0].set_yticklabels(())\n",
        "axes[0].set_ylabel(\"\")\n",
        "axes[0].set_xlabel(\"\")\n",
        "\n",
        "sns.kdeplot(df, x=\"days_of_treatment\", hue=\"survived\", ax=axes[1])\n",
        "\n",
        "plt.show()"
      ],
      "metadata": {
        "_kg_hide-input": true,
        "execution": {
          "iopub.status.busy": "2024-06-01T22:32:08.544258Z",
          "iopub.execute_input": "2024-06-01T22:32:08.54568Z",
          "iopub.status.idle": "2024-06-01T22:32:09.233657Z",
          "shell.execute_reply.started": "2024-06-01T22:32:08.54564Z",
          "shell.execute_reply": "2024-06-01T22:32:09.232736Z"
        },
        "trusted": true,
        "id": "CITn-c570EU7"
      },
      "execution_count": null,
      "outputs": []
    },
    {
      "cell_type": "markdown",
      "source": [
        "# Average age for both outcomes and age distribution through density curve"
      ],
      "metadata": {
        "id": "8BDKk_TR0EU8"
      }
    },
    {
      "cell_type": "code",
      "source": [
        "grouped = df.groupby(\"survived\")\n",
        "mean = grouped[\"age\"].mean()\n",
        "fig, axes = plt.subplots(ncols=2, figsize=(15, 6))\n",
        "sns.barplot(x=mean.index, y=mean, ax=axes[0])\n",
        "for container in axes[0].containers:\n",
        "    axes[0].bar_label(container)\n",
        "axes[0].set_yticklabels(())\n",
        "axes[0].set_ylabel(\"\")\n",
        "axes[0].set_xlabel(\"\")\n",
        "\n",
        "sns.kdeplot(df, x=\"age\", hue=\"survived\", ax=axes[1])\n",
        "\n",
        "plt.show()"
      ],
      "metadata": {
        "_kg_hide-input": true,
        "execution": {
          "iopub.status.busy": "2024-06-01T22:32:09.234877Z",
          "iopub.execute_input": "2024-06-01T22:32:09.235834Z",
          "iopub.status.idle": "2024-06-01T22:32:09.662857Z",
          "shell.execute_reply.started": "2024-06-01T22:32:09.235796Z",
          "shell.execute_reply": "2024-06-01T22:32:09.662027Z"
        },
        "trusted": true,
        "id": "uXstrVAv0EU8"
      },
      "execution_count": null,
      "outputs": []
    },
    {
      "cell_type": "code",
      "source": [
        "survived_df = df[df[\"survived\"] == 1].copy()\n",
        "dead_df = df[df[\"survived\"] == 0].copy()\n"
      ],
      "metadata": {
        "_kg_hide-input": true,
        "execution": {
          "iopub.status.busy": "2024-06-01T22:32:09.663964Z",
          "iopub.execute_input": "2024-06-01T22:32:09.664489Z",
          "iopub.status.idle": "2024-06-01T22:32:09.672516Z",
          "shell.execute_reply.started": "2024-06-01T22:32:09.664459Z",
          "shell.execute_reply": "2024-06-01T22:32:09.671642Z"
        },
        "trusted": true,
        "id": "F-HGDPnR0EU-"
      },
      "execution_count": null,
      "outputs": []
    },
    {
      "cell_type": "code",
      "source": [
        "df.shape"
      ],
      "metadata": {
        "id": "XK8LW7YLfM07"
      },
      "execution_count": null,
      "outputs": []
    },
    {
      "cell_type": "code",
      "source": [
        "survived_df.shape\n"
      ],
      "metadata": {
        "id": "ZpgDofPNe3ST"
      },
      "execution_count": null,
      "outputs": []
    },
    {
      "cell_type": "code",
      "source": [
        "dead_df.shape"
      ],
      "metadata": {
        "id": "m_1WkEnBfTFw"
      },
      "execution_count": null,
      "outputs": []
    },
    {
      "cell_type": "markdown",
      "source": [
        "# Countires count for each outcome"
      ],
      "metadata": {
        "id": "8hYNaV_B0EU-"
      }
    },
    {
      "cell_type": "code",
      "source": [
        "survived_count = pd.DataFrame(survived_df[\"country\"].value_counts()).sort_values(\"count\", ascending=False)\n",
        "dead_count = pd.DataFrame(dead_df[\"country\"].value_counts()).sort_values(\"count\", ascending=False)\n",
        "\n",
        "fig, axes = plt.subplots(ncols=2, figsize=(15, 6))\n",
        "\n",
        "sns.barplot(x=survived_count.index[:10], y=survived_count.iloc[:10, 0], ax=axes[0])\n",
        "for container in axes[0].containers:\n",
        "    axes[0].bar_label(container)\n",
        "axes[0].set_xticklabels(axes[0].get_xticklabels(), rotation=90)\n",
        "axes[0].set_yticklabels(())\n",
        "axes[0].set_ylabel(\"\")\n",
        "axes[0].set_xlabel(\"\")\n",
        "axes[0].set_title(\"Top 10 countries with most survived cases count\")\n",
        "sns.barplot(x=dead_count.index[:10], y=dead_count.iloc[:10, 0], ax=axes[1])\n",
        "\n",
        "for container in axes[1].containers:\n",
        "    axes[1].bar_label(container)\n",
        "axes[1].set_xticklabels(axes[1].get_xticklabels(), rotation=90)\n",
        "axes[1].set_yticklabels(())\n",
        "axes[1].set_ylabel(\"\")\n",
        "axes[1].set_xlabel(\"\")\n",
        "axes[1].set_title(\"10 countries with most lethal cases count\")\n",
        "\n",
        "plt.show()"
      ],
      "metadata": {
        "_kg_hide-input": true,
        "execution": {
          "iopub.status.busy": "2024-06-01T22:32:09.674037Z",
          "iopub.execute_input": "2024-06-01T22:32:09.674395Z",
          "iopub.status.idle": "2024-06-01T22:32:10.25726Z",
          "shell.execute_reply.started": "2024-06-01T22:32:09.674368Z",
          "shell.execute_reply": "2024-06-01T22:32:10.25601Z"
        },
        "trusted": true,
        "id": "XwHC11mx0EU_"
      },
      "execution_count": null,
      "outputs": []
    },
    {
      "cell_type": "markdown",
      "source": [
        "# Countries count with highest number of the following smoking statuses"
      ],
      "metadata": {
        "id": "28rhS0QY0EVA"
      }
    },
    {
      "cell_type": "code",
      "source": [
        "fig, axes = plt.subplots(nrows=1, ncols=4, figsize=(15, 6))\n",
        "for i, j in enumerate(df[\"smoking_status\"].unique()):\n",
        "    temp_df = df[df[\"smoking_status\"] == j]\n",
        "    count = pd.DataFrame(temp_df[\"country\"].value_counts()).sort_values(\"count\", ascending=False)\n",
        "    sns.barplot(x=count.index[:10], y=count.iloc[:10, 0], ax=axes[i])\n",
        "    for container in axes[i].containers:\n",
        "        axes[i].bar_label(container)\n",
        "    axes[i].set_xticklabels(axes[i].get_xticklabels(), rotation=90)\n",
        "    axes[i].set_yticklabels(())\n",
        "    axes[i].set_ylabel(\"\")\n",
        "    axes[i].set_xlabel(\"\")\n",
        "    axes[i].set_title(j)\n",
        "plt.tight_layout()\n",
        "plt.show()"
      ],
      "metadata": {
        "_kg_hide-input": true,
        "execution": {
          "iopub.status.busy": "2024-06-01T22:32:10.258578Z",
          "iopub.execute_input": "2024-06-01T22:32:10.258943Z",
          "iopub.status.idle": "2024-06-01T22:32:11.445205Z",
          "shell.execute_reply.started": "2024-06-01T22:32:10.258913Z",
          "shell.execute_reply": "2024-06-01T22:32:11.44381Z"
        },
        "trusted": true,
        "id": "H8iMMDn-0EVA"
      },
      "execution_count": null,
      "outputs": []
    },
    {
      "cell_type": "markdown",
      "source": [
        "# Count of smoking status and its influence on lung cancer occurence"
      ],
      "metadata": {
        "id": "zugltRTg0EVB"
      }
    },
    {
      "cell_type": "code",
      "source": [
        "fig, axes = plt.subplots(ncols=2, figsize=(15, 6))\n",
        "df[\"smoking_status\"].value_counts().plot(kind=\"bar\", ax=axes[0])\n",
        "for container in axes[0].containers:\n",
        "    axes[0].bar_label(container)\n",
        "axes[0].set_yticklabels(())\n",
        "axes[0].set_ylabel(\"\")\n",
        "axes[0].set_xlabel(\"\")\n",
        "axes[0].set_title(\"Smoking status count\")\n",
        "df[\"smoking_status\"].value_counts().plot(kind=\"pie\", ax=axes[1], autopct=\"%0.2f%%\")\n",
        "axes[1].set_ylabel(\"\")\n",
        "plt.show()"
      ],
      "metadata": {
        "_kg_hide-input": true,
        "execution": {
          "iopub.status.busy": "2024-06-01T22:32:11.447253Z",
          "iopub.execute_input": "2024-06-01T22:32:11.447747Z",
          "iopub.status.idle": "2024-06-01T22:32:11.772298Z",
          "shell.execute_reply.started": "2024-06-01T22:32:11.447675Z",
          "shell.execute_reply": "2024-06-01T22:32:11.77104Z"
        },
        "trusted": true,
        "id": "zN5Ej6Ux0EVC"
      },
      "execution_count": null,
      "outputs": []
    },
    {
      "cell_type": "markdown",
      "source": [
        "# Influence of smoking status on cancer survival"
      ],
      "metadata": {
        "id": "3BWFnN0X0EVD"
      }
    },
    {
      "cell_type": "code",
      "source": [
        "cross = pd.crosstab(df[\"smoking_status\"], df[\"survived\"])\n",
        "sns.heatmap(cross, annot=True, fmt='d')\n",
        "plt.show()"
      ],
      "metadata": {
        "_kg_hide-input": true,
        "execution": {
          "iopub.status.busy": "2024-06-01T22:32:11.774198Z",
          "iopub.execute_input": "2024-06-01T22:32:11.774988Z",
          "iopub.status.idle": "2024-06-01T22:32:12.057339Z",
          "shell.execute_reply.started": "2024-06-01T22:32:11.774948Z",
          "shell.execute_reply": "2024-06-01T22:32:12.056165Z"
        },
        "trusted": true,
        "id": "wik4VqHv0EVE"
      },
      "execution_count": null,
      "outputs": []
    },
    {
      "cell_type": "markdown",
      "source": [
        "# 10 countries with highest BMI levels and cholesterol levels"
      ],
      "metadata": {
        "id": "xti8wixZ0EVF"
      }
    },
    {
      "cell_type": "code",
      "source": [
        "grouped = df.groupby(\"country\")\n",
        "bmi = pd.DataFrame(grouped[\"bmi\"].mean()).sort_values(\"bmi\", ascending=False)\n",
        "chol = pd.DataFrame(grouped[\"cholesterol_level\"].mean()).sort_values(\"cholesterol_level\", ascending=False)\n",
        "fig, axes = plt.subplots(ncols=2, figsize=(15, 6))\n",
        "i = 0\n",
        "sns.barplot(x=bmi.index[:10], y=bmi.iloc[:10, 0], ax=axes[i])\n",
        "for container in axes[i].containers:\n",
        "    axes[i].bar_label(container, rotation=90, label_type=\"center\")\n",
        "axes[i].set_xticklabels(axes[i].get_xticklabels(), rotation=90)\n",
        "axes[i].set_yticklabels(())\n",
        "axes[i].set_ylabel(\"\")\n",
        "axes[i].set_xlabel(\"\")\n",
        "axes[i].set_title(\"BMI\")\n",
        "i += 1\n",
        "sns.barplot(x=chol.index[:10], y=chol.iloc[:10, 0], ax=axes[i])\n",
        "for container in axes[i].containers:\n",
        "    axes[i].bar_label(container, rotation=90, label_type=\"center\")\n",
        "axes[i].set_xticklabels(axes[i].get_xticklabels(), rotation=90)\n",
        "axes[i].set_yticklabels(())\n",
        "axes[i].set_ylabel(\"\")\n",
        "axes[i].set_xlabel(\"\")\n",
        "axes[i].set_title(\"Cholesterol levels\")\n",
        "plt.show()"
      ],
      "metadata": {
        "_kg_hide-input": true,
        "execution": {
          "iopub.status.busy": "2024-06-01T22:32:12.058853Z",
          "iopub.execute_input": "2024-06-01T22:32:12.060058Z",
          "iopub.status.idle": "2024-06-01T22:32:12.616983Z",
          "shell.execute_reply.started": "2024-06-01T22:32:12.060013Z",
          "shell.execute_reply": "2024-06-01T22:32:12.616Z"
        },
        "trusted": true,
        "id": "S27VsY4c0EVG"
      },
      "execution_count": null,
      "outputs": []
    },
    {
      "cell_type": "markdown",
      "source": [
        "# Data distribution of BMI and cholesterol levels for cases with lethal and non-lethal outcomes"
      ],
      "metadata": {
        "id": "3q9foUgL0EVG"
      }
    },
    {
      "cell_type": "code",
      "source": [
        "fig, axes = plt.subplots(ncols=2, figsize=(15, 6))\n",
        "\n",
        "sns.kdeplot(df, x=\"bmi\", hue=\"survived\", ax=axes[0])\n",
        "sns.kdeplot(df, x=\"cholesterol_level\", hue=\"survived\", ax=axes[1])\n",
        "plt.show()"
      ],
      "metadata": {
        "_kg_hide-input": true,
        "execution": {
          "iopub.status.busy": "2024-06-01T22:32:12.618064Z",
          "iopub.execute_input": "2024-06-01T22:32:12.618811Z",
          "iopub.status.idle": "2024-06-01T22:32:13.187176Z",
          "shell.execute_reply.started": "2024-06-01T22:32:12.618777Z",
          "shell.execute_reply": "2024-06-01T22:32:13.185918Z"
        },
        "trusted": true,
        "id": "7C8cD0Mj0EVH"
      },
      "execution_count": null,
      "outputs": []
    },
    {
      "cell_type": "markdown",
      "source": [
        "# Count of gender with lung cancer cases"
      ],
      "metadata": {
        "id": "MJHy5FoR0EVI"
      }
    },
    {
      "cell_type": "code",
      "source": [
        "fig, axes = plt.subplots(ncols=2, figsize=(15, 6))\n",
        "df[\"gender\"].value_counts().plot(kind=\"bar\", ax=axes[0])\n",
        "for container in axes[0].containers:\n",
        "    axes[0].bar_label(container)\n",
        "axes[0].set_yticklabels(())\n",
        "axes[0].set_ylabel(\"\")\n",
        "axes[0].set_xlabel(\"\")\n",
        "axes[0].set_title(\"Gender count\")\n",
        "df[\"gender\"].value_counts().plot(kind=\"pie\", ax=axes[1], autopct=\"%0.2f%%\")\n",
        "axes[1].set_ylabel(\"\")\n",
        "plt.show()"
      ],
      "metadata": {
        "_kg_hide-input": true,
        "execution": {
          "iopub.status.busy": "2024-06-01T22:32:13.18892Z",
          "iopub.execute_input": "2024-06-01T22:32:13.190032Z",
          "iopub.status.idle": "2024-06-01T22:32:13.494039Z",
          "shell.execute_reply.started": "2024-06-01T22:32:13.189984Z",
          "shell.execute_reply": "2024-06-01T22:32:13.49264Z"
        },
        "trusted": true,
        "id": "8DKKtMah0EVJ"
      },
      "execution_count": null,
      "outputs": []
    },
    {
      "cell_type": "markdown",
      "source": [
        "# Influence of gender on lung cancer"
      ],
      "metadata": {
        "id": "CS-sHAVb0EVK"
      }
    },
    {
      "cell_type": "code",
      "source": [
        "cross = pd.crosstab(df[\"gender\"], df[\"survived\"])\n",
        "sns.heatmap(cross, annot=True, fmt='d')\n",
        "plt.show()"
      ],
      "metadata": {
        "_kg_hide-input": true,
        "execution": {
          "iopub.status.busy": "2024-06-01T22:32:13.495429Z",
          "iopub.execute_input": "2024-06-01T22:32:13.495754Z",
          "iopub.status.idle": "2024-06-01T22:32:13.739905Z",
          "shell.execute_reply.started": "2024-06-01T22:32:13.495728Z",
          "shell.execute_reply": "2024-06-01T22:32:13.738768Z"
        },
        "trusted": true,
        "id": "QrUu84u90EVK"
      },
      "execution_count": null,
      "outputs": []
    },
    {
      "cell_type": "markdown",
      "source": [
        "# Average age in both genders to have lung cancer"
      ],
      "metadata": {
        "id": "lul4oPsE0EVU"
      }
    },
    {
      "cell_type": "code",
      "source": [
        "grouped = df.groupby(\"gender\")\n",
        "mean = grouped[\"age\"].mean()\n",
        "fig, axes = plt.subplots(ncols=2, figsize=(15, 6))\n",
        "sns.barplot(x=mean.index, y=mean, ax=axes[0])\n",
        "for container in axes[0].containers:\n",
        "    axes[0].bar_label(container)\n",
        "axes[0].set_yticklabels(())\n",
        "axes[0].set_ylabel(\"\")\n",
        "axes[0].set_xlabel(\"\")\n",
        "\n",
        "sns.kdeplot(df, x=\"age\", hue=\"gender\", ax=axes[1])\n",
        "\n",
        "plt.show()"
      ],
      "metadata": {
        "_kg_hide-input": true,
        "execution": {
          "iopub.status.busy": "2024-06-01T22:32:13.741702Z",
          "iopub.execute_input": "2024-06-01T22:32:13.742157Z",
          "iopub.status.idle": "2024-06-01T22:32:14.167985Z",
          "shell.execute_reply.started": "2024-06-01T22:32:13.742118Z",
          "shell.execute_reply": "2024-06-01T22:32:14.166287Z"
        },
        "trusted": true,
        "id": "eeE1UMMu0EVV"
      },
      "execution_count": null,
      "outputs": []
    },
    {
      "cell_type": "markdown",
      "source": [
        "# Which gender has tendencies for various smoking statuses"
      ],
      "metadata": {
        "id": "fFEhmSUM0EVW"
      }
    },
    {
      "cell_type": "code",
      "source": [
        "cross = pd.crosstab(df[\"gender\"], df[\"smoking_status\"])\n",
        "sns.heatmap(cross, annot=True, fmt='d')\n",
        "plt.show()"
      ],
      "metadata": {
        "_kg_hide-input": true,
        "execution": {
          "iopub.status.busy": "2024-06-01T22:32:14.169742Z",
          "iopub.execute_input": "2024-06-01T22:32:14.170139Z",
          "iopub.status.idle": "2024-06-01T22:32:14.447732Z",
          "shell.execute_reply.started": "2024-06-01T22:32:14.170108Z",
          "shell.execute_reply": "2024-06-01T22:32:14.446604Z"
        },
        "trusted": true,
        "id": "HnokNkUH0EVX"
      },
      "execution_count": null,
      "outputs": []
    },
    {
      "cell_type": "markdown",
      "source": [
        "# Influence of other diagnoses on the outcome of treatment"
      ],
      "metadata": {
        "id": "TcpFq9xo0EVX"
      }
    },
    {
      "cell_type": "code",
      "source": [
        "diseases = [\"hypertension\", \"asthma\", \"cirrhosis\", \"other_cancer\"]\n",
        "\n",
        "fig, axes = plt.subplots(nrows=1, ncols=4, figsize=(15, 6))\n",
        "for i, j in enumerate(diseases):\n",
        "    cross = pd.crosstab(df[j], df[\"survived\"])\n",
        "    sns.heatmap(cross, annot=True, fmt='d', ax=axes[i])\n",
        "    axes[i].set_title(j.replace('_', ' ').capitalize())\n",
        "plt.tight_layout()\n",
        "plt.show()"
      ],
      "metadata": {
        "_kg_hide-input": true,
        "execution": {
          "iopub.status.busy": "2024-06-01T22:32:14.449499Z",
          "iopub.execute_input": "2024-06-01T22:32:14.449864Z",
          "iopub.status.idle": "2024-06-01T22:32:15.887051Z",
          "shell.execute_reply.started": "2024-06-01T22:32:14.449828Z",
          "shell.execute_reply": "2024-06-01T22:32:15.88584Z"
        },
        "trusted": true,
        "id": "9NQVxEpH0EVY"
      },
      "execution_count": null,
      "outputs": []
    },
    {
      "cell_type": "markdown",
      "source": [
        "# Treatment approaches tendencies"
      ],
      "metadata": {
        "id": "wonpOTR20EVZ"
      }
    },
    {
      "cell_type": "code",
      "source": [
        "fig, axes = plt.subplots(ncols=2, figsize=(15, 6))\n",
        "df[\"treatment_type\"].value_counts().plot(kind=\"bar\", ax=axes[0])\n",
        "for container in axes[0].containers:\n",
        "    axes[0].bar_label(container)\n",
        "axes[0].set_yticklabels(())\n",
        "axes[0].set_ylabel(\"\")\n",
        "axes[0].set_xlabel(\"\")\n",
        "axes[0].set_title(\"Treatment methods count\")\n",
        "df[\"treatment_type\"].value_counts().plot(kind=\"pie\", ax=axes[1], autopct=\"%0.2f%%\")\n",
        "axes[1].set_ylabel(\"\")\n",
        "plt.show()"
      ],
      "metadata": {
        "_kg_hide-input": true,
        "execution": {
          "iopub.status.busy": "2024-06-01T22:32:15.889177Z",
          "iopub.execute_input": "2024-06-01T22:32:15.889524Z",
          "iopub.status.idle": "2024-06-01T22:32:16.272422Z",
          "shell.execute_reply.started": "2024-06-01T22:32:15.889495Z",
          "shell.execute_reply": "2024-06-01T22:32:16.270878Z"
        },
        "trusted": true,
        "id": "gfp_gUi70EVa"
      },
      "execution_count": null,
      "outputs": []
    },
    {
      "cell_type": "markdown",
      "source": [
        "# Influence of treatment type on the outcome"
      ],
      "metadata": {
        "id": "_3A3myyP0EVb"
      }
    },
    {
      "cell_type": "code",
      "source": [
        "cross = pd.crosstab(df[\"survived\"], df[\"treatment_type\"])\n",
        "sns.heatmap(cross, annot=True, fmt='d')\n",
        "plt.show()"
      ],
      "metadata": {
        "_kg_hide-input": true,
        "execution": {
          "iopub.status.busy": "2024-06-01T22:32:16.274011Z",
          "iopub.execute_input": "2024-06-01T22:32:16.274521Z",
          "iopub.status.idle": "2024-06-01T22:32:16.592474Z",
          "shell.execute_reply.started": "2024-06-01T22:32:16.274487Z",
          "shell.execute_reply": "2024-06-01T22:32:16.591096Z"
        },
        "trusted": true,
        "id": "u257k5n_0EVb"
      },
      "execution_count": null,
      "outputs": []
    },
    {
      "cell_type": "markdown",
      "source": [
        "# Cases of lung cancer in family history influence on lung cancer occurence"
      ],
      "metadata": {
        "id": "Y17IqnW30EVd"
      }
    },
    {
      "cell_type": "code",
      "source": [
        "fig, axes = plt.subplots(ncols=2, figsize=(15, 6))\n",
        "df[\"family_history\"].value_counts().plot(kind=\"bar\", ax=axes[0])\n",
        "for container in axes[0].containers:\n",
        "    axes[0].bar_label(container)\n",
        "axes[0].set_yticklabels(())\n",
        "axes[0].set_ylabel(\"\")\n",
        "axes[0].set_xlabel(\"\")\n",
        "axes[0].set_title(\"History count\")\n",
        "df[\"family_history\"].value_counts().plot(kind=\"pie\", ax=axes[1], autopct=\"%0.2f%%\")\n",
        "axes[1].set_ylabel(\"\")\n",
        "plt.show()"
      ],
      "metadata": {
        "_kg_hide-input": true,
        "execution": {
          "iopub.status.busy": "2024-06-01T22:32:16.600112Z",
          "iopub.execute_input": "2024-06-01T22:32:16.600489Z",
          "iopub.status.idle": "2024-06-01T22:32:16.908081Z",
          "shell.execute_reply.started": "2024-06-01T22:32:16.60046Z",
          "shell.execute_reply": "2024-06-01T22:32:16.906638Z"
        },
        "trusted": true,
        "id": "oybE3rJM0EVe"
      },
      "execution_count": null,
      "outputs": []
    },
    {
      "cell_type": "markdown",
      "source": [
        "# Influence of family history on survival"
      ],
      "metadata": {
        "id": "1-0K7N-Z0EVf"
      }
    },
    {
      "cell_type": "code",
      "source": [
        "cross = pd.crosstab(df[\"survived\"], df[\"family_history\"])\n",
        "sns.heatmap(cross, annot=True, fmt='d')\n",
        "plt.show()"
      ],
      "metadata": {
        "_kg_hide-input": true,
        "execution": {
          "iopub.status.busy": "2024-06-01T22:32:16.909772Z",
          "iopub.execute_input": "2024-06-01T22:32:16.910217Z",
          "iopub.status.idle": "2024-06-01T22:32:17.597915Z",
          "shell.execute_reply.started": "2024-06-01T22:32:16.910177Z",
          "shell.execute_reply": "2024-06-01T22:32:17.596429Z"
        },
        "trusted": true,
        "id": "ohVLtF_C0EVf"
      },
      "execution_count": null,
      "outputs": []
    },
    {
      "cell_type": "markdown",
      "source": [
        "# Encoding categorical variables"
      ],
      "metadata": {
        "id": "J03UIbN90EVg"
      }
    },
    {
      "cell_type": "code",
      "source": [
        "categoricals = [\"gender\", \"country\", \"cancer_stage\", \"family_history\", \"smoking_status\", \"treatment_type\"]\n",
        "\n",
        "le = LabelEncoder()\n",
        "for i in categoricals:\n",
        "    df[i] = le.fit_transform(df[i].values)"
      ],
      "metadata": {
        "execution": {
          "iopub.status.busy": "2024-06-01T22:32:17.599432Z",
          "iopub.execute_input": "2024-06-01T22:32:17.59983Z",
          "iopub.status.idle": "2024-06-01T22:32:17.611015Z",
          "shell.execute_reply.started": "2024-06-01T22:32:17.599797Z",
          "shell.execute_reply": "2024-06-01T22:32:17.609976Z"
        },
        "trusted": true,
        "id": "LPcefcUh0EVh"
      },
      "execution_count": null,
      "outputs": []
    },
    {
      "cell_type": "code",
      "source": [
        "# Defining features (X) and target (y)\n",
        "x = df.drop([\"id\", \"diagnosis_date\", \"end_treatment_date\", \"survived\", \"beginning_of_treatment_date\"], axis=1).values\n",
        "y = df.loc[:, \"survived\"].values\n",
        "\n",
        "# Split the data into training and testing sets\n",
        "X_train, X_test, y_train, y_test = train_test_split(X, y, test_size=0.2, random_state=42)\n",
        "\n",
        "# Scale the data using StandardScaler\n",
        "scaler = StandardScaler()\n",
        "X_train = scaler.fit_transform(X_train)\n",
        "X_test = scaler.transform(X_test)\n",
        "\n",
        "# Define and train a binary classification model\n",
        "# Here, we'll use a few different models for comparison\n",
        "models = {\n",
        "    'Logistic Regression': LogisticRegression(max_iter=1000),\n",
        "    'Decision Tree': DecisionTreeClassifier(),\n",
        "    'Random Forest': RandomForestClassifier(),\n",
        "    'SVM': SVC(),\n",
        "    'KNN': KNeighborsClassifier()\n",
        "}\n",
        "\n",
        "for name, model in models.items():\n",
        "    model.fit(X_train, y_train)\n",
        "    y_pred = model.predict(X_test)\n",
        "    print(f\"Model: {name}\")\n",
        "    print(f\"Accuracy: {accuracy_score(y_test, y_pred)}\")\n",
        "    print(f\"Classification Report:\\n{classification_report(y_test, y_pred)}\")\n",
        "    print(f\"Confusion Matrix:\\n{confusion_matrix(y_test, y_pred)}\")\n",
        "    print(\"\\n\")\n",
        "\n",
        "# Choose the best model based on performance metrics\n",
        "# For this example, let's say we choose the model with the highest accuracy\n",
        "best_model = max(models, key=lambda x: accuracy_score(y_test, models[x].predict(X_test)))\n",
        "print(f\"Best Model: {best_model}\")\n",
        "\n",
        "# Use the best model to make predictions on new data\n",
        "# Replace 'new_data' with your actual new data\n",
        "new_data = pd.DataFrame({'feature1': [1, 2, 3], 'feature2': [4, 5, 6]})  # Example new data\n",
        "new_data = scaler.transform(new_data)\n",
        "predictions = models[best_model].predict(new_data)\n",
        "print(f\"Predictions: {predictions}\")\n",
        "\n",
        "# Suggest better treatment methods based on the predicted survival chances\n",
        "# This can be done by analyzing the predicted probabilities of survival\n",
        "predicted_probabilities = models[best_model].predict_proba(new_data)\n",
        "print(f\"Predicted Probabilities: {predicted_probabilities}\")\n",
        "\n",
        "# For example, if the predicted probability of survival is high, suggest more aggressive treatment methods\n",
        "if predicted_probabilities[0][1] > 0.7:\n",
        "    print(\"Suggested Treatment: Aggressive chemotherapy and radiation therapy\")\n",
        "else:\n",
        "    print(\"Suggested Treatment: Palliative care and symptom management\")\n"
      ],
      "metadata": {
        "id": "7-tSmhwQCHMa"
      },
      "execution_count": null,
      "outputs": []
    }
  ]
}